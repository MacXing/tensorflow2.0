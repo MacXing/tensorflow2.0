{
 "cells": [
  {
   "cell_type": "code",
   "execution_count": 1,
   "metadata": {},
   "outputs": [
    {
     "name": "stdout",
     "output_type": "stream",
     "text": [
      "matplotlib 3.1.1\n",
      "numpy 1.16.4\n",
      "pandas 0.24.2\n",
      "sklearn 0.21.2\n",
      "tensorflow 2.0.0-alpha0\n",
      "tensorflow.python.keras.api._v2.keras 2.2.4-tf\n"
     ]
    }
   ],
   "source": [
    "import tensorflow as tf\n",
    "import matplotlib as mpl\n",
    "import matplotlib.pyplot as plt\n",
    "import numpy as np\n",
    "import pandas as  pd\n",
    "import sklearn\n",
    "import os\n",
    "import time\n",
    "from tensorflow import keras\n",
    "for module in mpl,np,pd,sklearn,tf,keras:\n",
    "    print(module.__name__,module.__version__)"
   ]
  },
  {
   "cell_type": "code",
   "execution_count": 2,
   "metadata": {},
   "outputs": [
    {
     "name": "stdout",
     "output_type": "stream",
     "text": [
      ".. _california_housing_dataset:\n",
      "\n",
      "California Housing dataset\n",
      "--------------------------\n",
      "\n",
      "**Data Set Characteristics:**\n",
      "\n",
      "    :Number of Instances: 20640\n",
      "\n",
      "    :Number of Attributes: 8 numeric, predictive attributes and the target\n",
      "\n",
      "    :Attribute Information:\n",
      "        - MedInc        median income in block\n",
      "        - HouseAge      median house age in block\n",
      "        - AveRooms      average number of rooms\n",
      "        - AveBedrms     average number of bedrooms\n",
      "        - Population    block population\n",
      "        - AveOccup      average house occupancy\n",
      "        - Latitude      house block latitude\n",
      "        - Longitude     house block longitude\n",
      "\n",
      "    :Missing Attribute Values: None\n",
      "\n",
      "This dataset was obtained from the StatLib repository.\n",
      "http://lib.stat.cmu.edu/datasets/\n",
      "\n",
      "The target variable is the median house value for California districts.\n",
      "\n",
      "This dataset was derived from the 1990 U.S. census, using one row per census\n",
      "block group. A block group is the smallest geographical unit for which the U.S.\n",
      "Census Bureau publishes sample data (a block group typically has a population\n",
      "of 600 to 3,000 people).\n",
      "\n",
      "It can be downloaded/loaded using the\n",
      ":func:`sklearn.datasets.fetch_california_housing` function.\n",
      "\n",
      ".. topic:: References\n",
      "\n",
      "    - Pace, R. Kelley and Ronald Barry, Sparse Spatial Autoregressions,\n",
      "      Statistics and Probability Letters, 33 (1997) 291-297\n",
      "\n",
      "(20640, 8)\n",
      "(20640,)\n"
     ]
    }
   ],
   "source": [
    "#导入数据\n",
    "from sklearn.datasets import fetch_california_housing\n",
    "housing = fetch_california_housing()\n",
    "print(housing.DESCR)\n",
    "print(housing.data.shape)\n",
    "print(housing.target.shape)"
   ]
  },
  {
   "cell_type": "code",
   "execution_count": 3,
   "metadata": {},
   "outputs": [
    {
     "name": "stdout",
     "output_type": "stream",
     "text": [
      "array([[ 8.32520000e+00,  4.10000000e+01,  6.98412698e+00,\n",
      "         1.02380952e+00,  3.22000000e+02,  2.55555556e+00,\n",
      "         3.78800000e+01, -1.22230000e+02],\n",
      "       [ 8.30140000e+00,  2.10000000e+01,  6.23813708e+00,\n",
      "         9.71880492e-01,  2.40100000e+03,  2.10984183e+00,\n",
      "         3.78600000e+01, -1.22220000e+02],\n",
      "       [ 7.25740000e+00,  5.20000000e+01,  8.28813559e+00,\n",
      "         1.07344633e+00,  4.96000000e+02,  2.80225989e+00,\n",
      "         3.78500000e+01, -1.22240000e+02],\n",
      "       [ 5.64310000e+00,  5.20000000e+01,  5.81735160e+00,\n",
      "         1.07305936e+00,  5.58000000e+02,  2.54794521e+00,\n",
      "         3.78500000e+01, -1.22250000e+02],\n",
      "       [ 3.84620000e+00,  5.20000000e+01,  6.28185328e+00,\n",
      "         1.08108108e+00,  5.65000000e+02,  2.18146718e+00,\n",
      "         3.78500000e+01, -1.22250000e+02]])\n",
      "array([4.526, 3.585, 3.521, 3.413, 3.422])\n"
     ]
    }
   ],
   "source": [
    "import pprint\n",
    "pprint.pprint(housing.data[:5])\n",
    "pprint.pprint(housing.target[:5])"
   ]
  },
  {
   "cell_type": "code",
   "execution_count": 4,
   "metadata": {},
   "outputs": [
    {
     "name": "stdout",
     "output_type": "stream",
     "text": [
      "(11610, 8) (11610,)\n",
      "(3870, 8) (3870,)\n",
      "(5160, 8) (5160,)\n"
     ]
    }
   ],
   "source": [
    "from sklearn.model_selection import train_test_split\n",
    "x_train_all,x_test,y_train_all,y_test = train_test_split(housing.data,\n",
    "                                                        housing.target,\n",
    "                                                        random_state = 0)\n",
    "x_train,x_valid,y_train,y_valid = train_test_split(x_train_all,\n",
    "                                                  y_train_all,\n",
    "                                                 random_state = 0)\n",
    "\n",
    "print(x_train.shape,y_train.shape)\n",
    "print(x_valid.shape,y_valid.shape)\n",
    "print(x_test.shape,y_test.shape)"
   ]
  },
  {
   "cell_type": "code",
   "execution_count": 5,
   "metadata": {},
   "outputs": [],
   "source": [
    "#标准化\n",
    "from sklearn.preprocessing import StandardScaler\n",
    "scaler = StandardScaler()\n",
    "x_train_scaled = scaler.fit_transform(x_train)\n",
    "x_valid_scaled = scaler.transform(x_valid)\n",
    "x_test_scaled = scaler.transform(x_test)"
   ]
  },
  {
   "cell_type": "code",
   "execution_count": 6,
   "metadata": {},
   "outputs": [],
   "source": [
    "#函数式多输入\n",
    "input_wide = keras.layers.Input(shape =[5])\n",
    "input_deep = keras.layers.Input(shape = [6])\n",
    "hidden1 =keras.layers.Dense(30,activation='relu')(input_deep)\n",
    "hidden2 = keras.layers.Dense(30,activation='relu')(hidden1)\n",
    "concat = keras.layers.concatenate([input_wide,hidden2])\n",
    "output = keras.layers.Dense(1)(concat)\n",
    "output2 = keras.layers.Dense(1)(hidden2)\n",
    "\n",
    "model = keras.models.Model(inputs = [input_wide,input_deep],\n",
    "                          outputs = [output,output2])\n",
    "\n",
    "model.compile(loss = 'mean_squared_error',\n",
    "             optimizer = 'sgd',\n",
    "             metrics = [\"accuracy\"])"
   ]
  },
  {
   "cell_type": "code",
   "execution_count": 7,
   "metadata": {},
   "outputs": [
    {
     "name": "stdout",
     "output_type": "stream",
     "text": [
      "Model: \"model\"\n",
      "__________________________________________________________________________________________________\n",
      "Layer (type)                    Output Shape         Param #     Connected to                     \n",
      "==================================================================================================\n",
      "input_2 (InputLayer)            [(None, 6)]          0                                            \n",
      "__________________________________________________________________________________________________\n",
      "dense (Dense)                   (None, 30)           210         input_2[0][0]                    \n",
      "__________________________________________________________________________________________________\n",
      "input_1 (InputLayer)            [(None, 5)]          0                                            \n",
      "__________________________________________________________________________________________________\n",
      "dense_1 (Dense)                 (None, 30)           930         dense[0][0]                      \n",
      "__________________________________________________________________________________________________\n",
      "concatenate (Concatenate)       (None, 35)           0           input_1[0][0]                    \n",
      "                                                                 dense_1[0][0]                    \n",
      "__________________________________________________________________________________________________\n",
      "dense_2 (Dense)                 (None, 1)            36          concatenate[0][0]                \n",
      "__________________________________________________________________________________________________\n",
      "dense_3 (Dense)                 (None, 1)            31          dense_1[0][0]                    \n",
      "==================================================================================================\n",
      "Total params: 1,207\n",
      "Trainable params: 1,207\n",
      "Non-trainable params: 0\n",
      "__________________________________________________________________________________________________\n"
     ]
    }
   ],
   "source": [
    "model.summary()"
   ]
  },
  {
   "cell_type": "code",
   "execution_count": 8,
   "metadata": {},
   "outputs": [
    {
     "name": "stdout",
     "output_type": "stream",
     "text": [
      "Train on 11610 samples, validate on 3870 samples\n",
      "Epoch 1/10\n",
      "11610/11610 [==============================] - 1s 92us/sample - loss: 4.5430 - dense_2_loss: 2.0103 - dense_3_loss: 2.5327 - dense_2_accuracy: 0.0017 - dense_3_accuracy: 0.0022 - val_loss: 2.0868 - val_dense_2_loss: 0.8169 - val_dense_3_loss: 1.2699 - val_dense_2_accuracy: 0.0023 - val_dense_3_accuracy: 0.0023\n",
      "Epoch 2/10\n",
      "11610/11610 [==============================] - 1s 45us/sample - loss: 1.9870 - dense_2_loss: 0.7590 - dense_3_loss: 1.2280 - dense_2_accuracy: 0.0027 - dense_3_accuracy: 0.0027 - val_loss: 1.8034 - val_dense_2_loss: 0.7113 - val_dense_3_loss: 1.0921 - val_dense_2_accuracy: 0.0023 - val_dense_3_accuracy: 0.0023\n",
      "Epoch 3/10\n",
      "11610/11610 [==============================] - 1s 44us/sample - loss: 1.7356 - dense_2_loss: 0.6703 - dense_3_loss: 1.0653 - dense_2_accuracy: 0.0027 - dense_3_accuracy: 0.0027 - val_loss: 1.6170 - val_dense_2_loss: 0.6532 - val_dense_3_loss: 0.9638 - val_dense_2_accuracy: 0.0023 - val_dense_3_accuracy: 0.0023\n",
      "Epoch 4/10\n",
      "11610/11610 [==============================] - 1s 50us/sample - loss: 1.5748 - dense_2_loss: 0.6247 - dense_3_loss: 0.9501 - dense_2_accuracy: 0.0027 - dense_3_accuracy: 0.0027 - val_loss: 1.4925 - val_dense_2_loss: 0.6183 - val_dense_3_loss: 0.8741 - val_dense_2_accuracy: 0.0023 - val_dense_3_accuracy: 0.0023\n",
      "Epoch 5/10\n",
      "11610/11610 [==============================] - 1s 54us/sample - loss: 1.4604 - dense_2_loss: 0.5909 - dense_3_loss: 0.8695 - dense_2_accuracy: 0.0027 - dense_3_accuracy: 0.0027 - val_loss: 1.4062 - val_dense_2_loss: 0.5873 - val_dense_3_loss: 0.8189 - val_dense_2_accuracy: 0.0023 - val_dense_3_accuracy: 0.0023\n",
      "Epoch 6/10\n",
      "11610/11610 [==============================] - 1s 45us/sample - loss: 1.3801 - dense_2_loss: 0.5636 - dense_3_loss: 0.8165 - dense_2_accuracy: 0.0027 - dense_3_accuracy: 0.0027 - val_loss: 1.3456 - val_dense_2_loss: 0.5660 - val_dense_3_loss: 0.7796 - val_dense_2_accuracy: 0.0023 - val_dense_3_accuracy: 0.0023\n",
      "Epoch 7/10\n",
      "11610/11610 [==============================] - 1s 48us/sample - loss: 1.3221 - dense_2_loss: 0.5427 - dense_3_loss: 0.7793 - dense_2_accuracy: 0.0027 - dense_3_accuracy: 0.0027 - val_loss: 1.3008 - val_dense_2_loss: 0.5458 - val_dense_3_loss: 0.7550 - val_dense_2_accuracy: 0.0023 - val_dense_3_accuracy: 0.0023\n",
      "Epoch 8/10\n",
      "11610/11610 [==============================] - 1s 50us/sample - loss: 1.2771 - dense_2_loss: 0.5256 - dense_3_loss: 0.7515 - dense_2_accuracy: 0.0027 - dense_3_accuracy: 0.0027 - val_loss: 1.2591 - val_dense_2_loss: 0.5289 - val_dense_3_loss: 0.7302 - val_dense_2_accuracy: 0.0023 - val_dense_3_accuracy: 0.0023\n",
      "Epoch 9/10\n",
      "11610/11610 [==============================] - 1s 47us/sample - loss: 1.2413 - dense_2_loss: 0.5116 - dense_3_loss: 0.7297 - dense_2_accuracy: 0.0027 - dense_3_accuracy: 0.0027 - val_loss: 1.2380 - val_dense_2_loss: 0.5248 - val_dense_3_loss: 0.7132 - val_dense_2_accuracy: 0.0023 - val_dense_3_accuracy: 0.0023\n",
      "Epoch 10/10\n",
      "11610/11610 [==============================] - 1s 49us/sample - loss: 1.2114 - dense_2_loss: 0.5003 - dense_3_loss: 0.7111 - dense_2_accuracy: 0.0027 - dense_3_accuracy: 0.0027 - val_loss: 1.2081 - val_dense_2_loss: 0.5101 - val_dense_3_loss: 0.6981 - val_dense_2_accuracy: 0.0023 - val_dense_3_accuracy: 0.0023\n"
     ]
    }
   ],
   "source": [
    "logdir = r'C:\\Users\\Xiaoi\\Desktop\\tensorflow2.0\\wide_deep_mutl_inputs_dropout_callbacks'\n",
    "if not os.path.exists(logdir):\n",
    "    os.mkdir(logdir)\n",
    "output_model_file = os.path.join(logdir,\n",
    "                                 \"fashion_mnist_model.h5\")\n",
    "\n",
    "_callbacks = [\n",
    "    keras.callbacks.TensorBoard(logdir),#tensotBoard 路径\n",
    "    keras.callbacks.ModelCheckpoint(output_model_file,\n",
    "                                   save_best_only=True), #保存最好的模型\n",
    "    keras.callbacks.EarlyStopping(patience=5,\n",
    "                                 min_delta=1e-3) # 5轮之内，最低为1e-3 就停止\n",
    "]\n",
    "x_train_scaled_wide = x_train_scaled[:,:5]\n",
    "x_train_scaled_deep = x_train_scaled[:,2:]\n",
    "x_valid_scaled_wide = x_valid_scaled[:,:5]\n",
    "x_valid_scaled_deep = x_valid_scaled[:,2:]\n",
    "x_test_scaled_wide = x_test_scaled[:,:5]\n",
    "x_test_scaled_deep = x_test_scaled[:,2:]\n",
    "\n",
    "\n",
    "history = model.fit([x_train_scaled_wide,x_train_scaled_deep],\n",
    "                    [y_train,y_train],\n",
    "                   epochs=10,\n",
    "                   validation_data=([x_valid_scaled_wide,x_valid_scaled_deep],[y_valid,y_valid]),\n",
    "                   callbacks=_callbacks)"
   ]
  },
  {
   "cell_type": "code",
   "execution_count": 9,
   "metadata": {},
   "outputs": [
    {
     "data": {
      "image/png": "[encoded data removed]",
      "text/plain": [
       "<Figure size 576x360 with 1 Axes>"
      ]
     },
     "metadata": {
      "needs_background": "light"
     },
     "output_type": "display_data"
    }
   ],
   "source": [
    "def plot_learning_curver(history):\n",
    "    pd.DataFrame(history.history).plot(figsize = (8,5))\n",
    "    plt.grid(True)\n",
    "    plt.gca().set_ylim(0,1)\n",
    "    plt.show()\n",
    "plot_learning_curver(history)"
   ]
  },
  {
   "cell_type": "code",
   "execution_count": 10,
   "metadata": {},
   "outputs": [
    {
     "name": "stdout",
     "output_type": "stream",
     "text": [
      "5160/5160 [==============================] - 0s 24us/sample - loss: 1.2313 - dense_2_loss: 0.5222 - dense_3_loss: 0.7091 - dense_2_accuracy: 0.0041 - dense_3_accuracy: 0.0041\n"
     ]
    },
    {
     "data": {
      "text/plain": [
       "[1.2312892613946929, 0.522197, 0.7090921, 0.0040697674, 0.0040697674]"
      ]
     },
     "execution_count": 10,
     "metadata": {},
     "output_type": "execute_result"
    }
   ],
   "source": [
    "model.evaluate([x_test_scaled_wide,x_test_scaled_deep],[y_test,y_test])"
   ]
  },
  {
   "cell_type": "code",
   "execution_count": null,
   "metadata": {},
   "outputs": [],
   "source": []
  }
 ],
 "metadata": {
  "kernelspec": {
   "display_name": "Python 3",
   "language": "python",
   "name": "python3"
  },
  "language_info": {
   "codemirror_mode": {
    "name": "ipython",
    "version": 3
   },
   "file_extension": ".py",
   "mimetype": "text/x-python",
   "name": "python",
   "nbconvert_exporter": "python",
   "pygments_lexer": "ipython3",
   "version": "3.7.3"
  }
 },
 "nbformat": 4,
 "nbformat_minor": 2
}
