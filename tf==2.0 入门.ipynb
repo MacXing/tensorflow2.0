{
 "cells": [
  {
   "cell_type": "code",
   "execution_count": 8,
   "metadata": {},
   "outputs": [
    {
     "name": "stdout",
     "output_type": "stream",
     "text": [
      "2.0.0-alpha0\n",
      "2.2.4-tf\n"
     ]
    }
   ],
   "source": [
    "import tensorflow as tf\n",
    "from tensorflow import keras\n",
    "print(tf.__version__)\n",
    "print(keras.__version__)"
   ]
  },
  {
   "cell_type": "raw",
   "metadata": {},
   "source": [
    "模型堆叠"
   ]
  },
  {
   "cell_type": "code",
   "execution_count": 9,
   "metadata": {},
   "outputs": [],
   "source": [
    "model = keras.Sequential()\n",
    "model.add(keras.layers.Dense(32,activation='relu'))\n",
    "model.add(keras.layers.Dense(32,activation='relu'))\n",
    "model.add(keras.layers.Dense(10,activation='softmax'))"
   ]
  },
  {
   "cell_type": "raw",
   "metadata": {},
   "source": [
    "tf.keras.layers中网络配置：\n",
    "\n",
    "activation：设置层的激活函数。此参数由内置函数的名称指定，或指定为可调用对象。默认情况下，系统不会应用任何激活函数。\n",
    "\n",
    "kernel_initializer 和 bias_initializer：创建层权重（核和偏差）的初始化方案。此参数是一个名称或可调用对象，默认为 \"Glorot uniform\" 初始化器。\n",
    "\n",
    "kernel_regularizer 和 bias_regularizer：应用层权重（核和偏差）的正则化方案，例如 L1 或 L2 正则化。默认情况下，系统不会应用正则化函数。"
   ]
  },
  {
   "cell_type": "code",
   "execution_count": 10,
   "metadata": {},
   "outputs": [
    {
     "data": {
      "text/plain": [
       "<tensorflow.python.keras.layers.core.Dense at 0x1cdb17294a8>"
      ]
     },
     "execution_count": 10,
     "metadata": {},
     "output_type": "execute_result"
    }
   ],
   "source": [
    "keras.layers.Dense(32,activation='relu')\n",
    "keras.layers.Dense(32,activation=tf.sigmoid)\n",
    "keras.layers.Dense(32,kernel_initializer='orthogonal')\n",
    "keras.layers.Dense(32,kernel_initializer=keras.initializers.glorot_normal)\n",
    "keras.layers.Dense(32,kernel_regularizer=keras.regularizers.l2(0.01))\n",
    "keras.layers.Dense(32,kernel_regularizer=keras.regularizers.l1(0.01))"
   ]
  },
  {
   "cell_type": "raw",
   "metadata": {},
   "source": [
    "训练和评估\n",
    "设置训练流程\n",
    "构建好模型后，通过调用 compile 方法配置该模型的学习流程："
   ]
  },
  {
   "cell_type": "code",
   "execution_count": 12,
   "metadata": {},
   "outputs": [],
   "source": [
    "model = keras.Sequential()\n",
    "model.add(keras.layers.Dense(32,activation='relu'))\n",
    "model.add(keras.layers.Dense(32,activation='relu'))\n",
    "model.add(keras.layers.Dense(10,activation='softmax'))\n",
    "model.compile(optimizer = keras.optimizers.Adam(learning_rate=0.01),\n",
    "             loss = keras.losses.categorical_crossentropy,\n",
    "             metrics = [keras.metrics.categorical_accuracy])"
   ]
  },
  {
   "cell_type": "raw",
   "metadata": {},
   "source": [
    "Numpy数据"
   ]
  },
  {
   "cell_type": "code",
   "execution_count": 13,
   "metadata": {},
   "outputs": [
    {
     "name": "stdout",
     "output_type": "stream",
     "text": [
      "Train on 1000 samples, validate on 200 samples\n",
      "Epoch 1/10\n",
      "1000/1000 [==============================] - 0s 236us/sample - loss: 18.8256 - categorical_accuracy: 0.1170 - val_loss: 36.2292 - val_categorical_accuracy: 0.1250\n",
      "Epoch 2/10\n",
      "1000/1000 [==============================] - 0s 15us/sample - loss: 43.4061 - categorical_accuracy: 0.0970 - val_loss: 56.4080 - val_categorical_accuracy: 0.0850\n",
      "Epoch 3/10\n",
      "1000/1000 [==============================] - 0s 18us/sample - loss: 57.5594 - categorical_accuracy: 0.1170 - val_loss: 60.1083 - val_categorical_accuracy: 0.0900\n",
      "Epoch 4/10\n",
      "1000/1000 [==============================] - 0s 17us/sample - loss: 63.9593 - categorical_accuracy: 0.1090 - val_loss: 70.2916 - val_categorical_accuracy: 0.0900\n",
      "Epoch 5/10\n",
      "1000/1000 [==============================] - 0s 17us/sample - loss: 91.4462 - categorical_accuracy: 0.0870 - val_loss: 125.5907 - val_categorical_accuracy: 0.0950\n",
      "Epoch 6/10\n",
      "1000/1000 [==============================] - 0s 17us/sample - loss: 169.1958 - categorical_accuracy: 0.1020 - val_loss: 253.9360 - val_categorical_accuracy: 0.1100\n",
      "Epoch 7/10\n",
      "1000/1000 [==============================] - 0s 17us/sample - loss: 315.3862 - categorical_accuracy: 0.0900 - val_loss: 388.5870 - val_categorical_accuracy: 0.0800\n",
      "Epoch 8/10\n",
      "1000/1000 [==============================] - 0s 18us/sample - loss: 617.5098 - categorical_accuracy: 0.0790 - val_loss: 622.4678 - val_categorical_accuracy: 0.0800\n",
      "Epoch 9/10\n",
      "1000/1000 [==============================] - 0s 17us/sample - loss: 716.8390 - categorical_accuracy: 0.1010 - val_loss: 807.1741 - val_categorical_accuracy: 0.0900\n",
      "Epoch 10/10\n",
      "1000/1000 [==============================] - 0s 16us/sample - loss: 793.2635 - categorical_accuracy: 0.1000 - val_loss: 935.1898 - val_categorical_accuracy: 0.1150\n"
     ]
    },
    {
     "data": {
      "text/plain": [
       "<tensorflow.python.keras.callbacks.History at 0x1cdb1c1b1d0>"
      ]
     },
     "execution_count": 13,
     "metadata": {},
     "output_type": "execute_result"
    }
   ],
   "source": [
    "import numpy as np\n",
    "\n",
    "train_x = np.random.random((1000, 72))\n",
    "train_y = np.random.random((1000, 10))\n",
    "\n",
    "val_x = np.random.random((200, 72))\n",
    "val_y = np.random.random((200, 10))\n",
    "\n",
    "model.fit(train_x, train_y, epochs=10, batch_size=100,\n",
    "          validation_data=(val_x, val_y))"
   ]
  },
  {
   "cell_type": "raw",
   "metadata": {},
   "source": [
    "tf.data输入数据"
   ]
  },
  {
   "cell_type": "code",
   "execution_count": 14,
   "metadata": {},
   "outputs": [
    {
     "name": "stderr",
     "output_type": "stream",
     "text": [
      "WARNING: Logging before flag parsing goes to stderr.\n",
      "W0705 13:40:13.880118 19296 training_utils.py:1353] Expected a shuffled dataset but input dataset `x` is not shuffled. Please invoke `shuffle()` on input dataset.\n"
     ]
    },
    {
     "name": "stdout",
     "output_type": "stream",
     "text": [
      "Epoch 1/10\n",
      "30/30 [==============================] - 0s 2ms/step - loss: 1191.1010 - categorical_accuracy: 0.1010 - val_loss: 1092.4255 - val_categorical_accuracy: 0.1250\n",
      "Epoch 2/10\n",
      "30/30 [==============================] - 0s 2ms/step - loss: 2250.8527 - categorical_accuracy: 0.0951 - val_loss: 3571.0033 - val_categorical_accuracy: 0.0938\n",
      "Epoch 3/10\n",
      "30/30 [==============================] - 0s 2ms/step - loss: 4554.5134 - categorical_accuracy: 0.0951 - val_loss: 5163.6891 - val_categorical_accuracy: 0.0938\n",
      "Epoch 4/10\n",
      "30/30 [==============================] - 0s 2ms/step - loss: 6411.1779 - categorical_accuracy: 0.1165 - val_loss: 6651.8206 - val_categorical_accuracy: 0.1146\n",
      "Epoch 5/10\n",
      "30/30 [==============================] - 0s 2ms/step - loss: 9775.8155 - categorical_accuracy: 0.0951 - val_loss: 8665.3395 - val_categorical_accuracy: 0.1250\n",
      "Epoch 6/10\n",
      "30/30 [==============================] - 0s 2ms/step - loss: 9634.4383 - categorical_accuracy: 0.1036 - val_loss: 12664.0872 - val_categorical_accuracy: 0.1146\n",
      "Epoch 7/10\n",
      "30/30 [==============================] - 0s 2ms/step - loss: 16989.7984 - categorical_accuracy: 0.0887 - val_loss: 12546.3805 - val_categorical_accuracy: 0.0521\n",
      "Epoch 8/10\n",
      "30/30 [==============================] - 0s 2ms/step - loss: 14402.8111 - categorical_accuracy: 0.0748 - val_loss: 8372.3167 - val_categorical_accuracy: 0.1250\n",
      "Epoch 9/10\n",
      "30/30 [==============================] - 0s 2ms/step - loss: 19836.1226 - categorical_accuracy: 0.0951 - val_loss: 18686.5378 - val_categorical_accuracy: 0.0625\n",
      "Epoch 10/10\n",
      "30/30 [==============================] - 0s 2ms/step - loss: 28853.8383 - categorical_accuracy: 0.1058 - val_loss: 24520.4635 - val_categorical_accuracy: 0.1250\n"
     ]
    },
    {
     "data": {
      "text/plain": [
       "<tensorflow.python.keras.callbacks.History at 0x1cdb42d77f0>"
      ]
     },
     "execution_count": 14,
     "metadata": {},
     "output_type": "execute_result"
    }
   ],
   "source": [
    "dataset = tf.data.Dataset.from_tensor_slices((train_x,train_y))\n",
    "dataset = dataset.batch(32)\n",
    "dataset = dataset.repeat()\n",
    "val_dataset = tf.data.Dataset.from_tensor_slices((val_x,val_y))\n",
    "val_dataset = val_dataset.batch(32)\n",
    "val_dataset = val_dataset.repeat()\n",
    "\n",
    "model.fit(dataset,epochs=10,steps_per_epoch=30,validation_data=val_dataset,validation_steps=3)"
   ]
  },
  {
   "cell_type": "raw",
   "metadata": {},
   "source": [
    "评估与预测"
   ]
  },
  {
   "cell_type": "code",
   "execution_count": 17,
   "metadata": {},
   "outputs": [
    {
     "name": "stdout",
     "output_type": "stream",
     "text": [
      "1000/1000 [==============================] - 0s 26us/sample - loss: 25589.5173 - categorical_accuracy: 0.0940\n",
      "30/30 [==============================] - 0s 1ms/step - loss: 25624.4336 - categorical_accuracy: 0.0927\n",
      "[[0. 0. 0. ... 0. 1. 0.]\n",
      " [0. 0. 0. ... 0. 1. 0.]\n",
      " [0. 0. 0. ... 0. 1. 0.]\n",
      " ...\n",
      " [0. 0. 0. ... 0. 1. 0.]\n",
      " [0. 0. 0. ... 0. 1. 0.]\n",
      " [0. 0. 0. ... 0. 1. 0.]]\n"
     ]
    }
   ],
   "source": [
    "test_x = np.random.random((1000,72))\n",
    "test_y = np.random.random((1000,10))\n",
    "model.evaluate(test_x,test_y,batch_size=32)\n",
    "\n",
    "test_data = tf.data.Dataset.from_tensor_slices((test_x,test_y))\n",
    "test_data = test_data.batch(32).repeat()\n",
    "model.evaluate(test_data,steps=30)\n",
    "\n",
    "result = model.predict(test_x,batch_size=32)\n",
    "print(result)"
   ]
  }
 ],
 "metadata": {
  "kernelspec": {
   "display_name": "Python 3",
   "language": "python",
   "name": "python3"
  },
  "language_info": {
   "codemirror_mode": {
    "name": "ipython",
    "version": 3
   },
   "file_extension": ".py",
   "mimetype": "text/x-python",
   "name": "python",
   "nbconvert_exporter": "python",
   "pygments_lexer": "ipython3",
   "version": "3.7.3"
  }
 },
 "nbformat": 4,
 "nbformat_minor": 2
}
